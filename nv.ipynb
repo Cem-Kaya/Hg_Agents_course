{
 "cells": [
  {
   "cell_type": "code",
   "execution_count": 1,
   "id": "942cb886",
   "metadata": {},
   "outputs": [
    {
     "name": "stdout",
     "output_type": "stream",
     "text": [
      "['ABC', 'AUTHORIZED_TYPES', 'ActionOutput', 'ActionStep', 'AgentAudio', 'AgentError', 'AgentExecutionError', 'AgentGenerationError', 'AgentImage', 'AgentLogger', 'AgentMaxStepsError', 'AgentMemory', 'AgentParsingError', 'AgentText', 'AgentToolCallError', 'AgentToolExecutionError', 'AgentType', 'AmazonBedrockModel', 'AmazonBedrockServerModel', 'Any', 'ApiModel', 'AzureOpenAIModel', 'AzureOpenAIServerModel', 'BASE_BUILTIN_MODULES', 'CODEAGENT_RESPONSE_FORMAT', 'Callable', 'ChatMessage', 'ChatMessageStreamDelta', 'ChatMessageToolCall', 'CodeAgent', 'DockerExecutor', 'DuckDuckGoSearchTool', 'E2BExecutor', 'EMPTY_PROMPT_TEMPLATES', 'FinalAnswerPromptTemplate', 'FinalAnswerStep', 'FinalAnswerTool', 'Generator', 'GoogleSearchTool', 'GradioUI', 'Group', 'InferenceClientModel', 'LiteLLMModel', 'LiteLLMRouterModel', 'Literal', 'Live', 'LocalPythonExecutor', 'LogLevel', 'MCPClient', 'MLXModel', 'ManagedAgentPromptTemplate', 'Markdown', 'MessageRole', 'Model', 'Monitor', 'MultiStepAgent', 'OpenAIModel', 'OpenAIServerModel', 'Panel', 'Path', 'PlanningPromptTemplate', 'PlanningStep', 'PromptTemplates', 'PythonExecutor', 'PythonInterpreterTool', 'Rule', 'RunResult', 'SpeechToTextTool', 'StreamEvent', 'StrictUndefined', 'SystemPromptStep', 'TOOL_MAPPING', 'TYPE_CHECKING', 'TaskStep', 'Template', 'Text', 'ThreadPoolExecutor', 'Timing', 'TokenUsage', 'Tool', 'ToolCall', 'ToolCallingAgent', 'ToolCollection', 'ToolOutput', 'TransformersModel', 'TypeAlias', 'TypedDict', 'Union', 'UserInputTool', 'VLLMModel', 'VisitWebpageTool', 'WebSearchTool', 'WikipediaSearchTool', 'YELLOW_HEX', '__builtins__', '__cached__', '__doc__', '__file__', '__loader__', '__name__', '__package__', '__path__', '__spec__', '__version__', '_function_type_hints_utils', 'abstractmethod', 'agent_types', 'agents', 'agglomerate_stream_deltas', 'argparse', 'as_completed', 'cli', 'create_repo', 'dataclass', 'default_tools', 'evaluate_python_code', 'extract_code_from_text', 'fix_final_answer_code', 'getLogger', 'get_clean_message_list', 'get_variable_names', 'gradio_ui', 'handle_agent_output_types', 'importlib', 'inspect', 'is_valid_name', 'jinja2', 'json', 'launch_gradio_demo', 'leopard_prompt', 'load_dotenv', 'load_model', 'load_tool', 'local_python_executor', 'logger', 'main', 'make_init_file', 'mcp_client', 'memory', 'metadata_update', 'models', 'monitoring', 'os', 'parse_arguments', 'parse_code_blobs', 'parse_json_if_needed', 'populate_template', 're', 'remote_executors', 'run_smolagent', 'snapshot_download', 'stream_to_gradio', 'tempfile', 'textwrap', 'time', 'tool', 'tool_role_conversions', 'tool_validation', 'tools', 'truncate_content', 'upload_folder', 'utils', 'warnings', 'yaml']\n"
     ]
    }
   ],
   "source": [
    "import smolagents\n",
    "print(dir(smolagents))\n"
   ]
  },
  {
   "cell_type": "code",
   "execution_count": null,
   "id": "2a1d8867",
   "metadata": {},
   "outputs": [],
   "source": []
  },
  {
   "cell_type": "code",
   "execution_count": null,
   "id": "e31690c0",
   "metadata": {},
   "outputs": [],
   "source": []
  },
  {
   "cell_type": "code",
   "execution_count": null,
   "id": "32137faa",
   "metadata": {},
   "outputs": [],
   "source": []
  },
  {
   "cell_type": "code",
   "execution_count": null,
   "id": "86811c8e",
   "metadata": {},
   "outputs": [],
   "source": []
  }
 ],
 "metadata": {
  "kernelspec": {
   "display_name": "dl",
   "language": "python",
   "name": "python3"
  },
  "language_info": {
   "codemirror_mode": {
    "name": "ipython",
    "version": 3
   },
   "file_extension": ".py",
   "mimetype": "text/x-python",
   "name": "python",
   "nbconvert_exporter": "python",
   "pygments_lexer": "ipython3",
   "version": "3.13.2"
  }
 },
 "nbformat": 4,
 "nbformat_minor": 5
}
